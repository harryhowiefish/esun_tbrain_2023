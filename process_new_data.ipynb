{
 "cells": [
  {
   "cell_type": "code",
   "execution_count": 1,
   "metadata": {
    "tags": []
   },
   "outputs": [],
   "source": [
    "import pandas as pd\n",
    "import numpy as np\n",
    "from tqdm import tqdm\n",
    "import pickle\n",
    "import time\n",
    "import os\n",
    "import catboost as cb\n",
    "from catboost import metrics\n",
    "from Preprocess.df_formatting_and_extract import *\n",
    "pd.set_option('display.max_columns', None)\n"
   ]
  },
  {
   "cell_type": "code",
   "execution_count": 2,
   "metadata": {
    "tags": []
   },
   "outputs": [],
   "source": [
    "customer = pd.read_csv('./prep/customer_label.csv')\n",
    "\n",
    "new_data = pd.read_csv('./datasets/private_2_processed.csv')"
   ]
  },
  {
   "cell_type": "code",
   "execution_count": 3,
   "metadata": {
    "tags": []
   },
   "outputs": [],
   "source": [
    "customer.columns = ['交易卡號', '交易週期數', '交易總次數', '第一次交易週期', '交易天數', '第一次交易日期', '最後一次交易日期',\n",
    "       '盜刷總數', '消費總額', '網路消費次數', '國內消費次數', '盜刷比例', '每日平均刷卡次數', '每週期平均交易數',\n",
    "       '可交易天數', '可交易週期數', '消費金額平均數', '國內消費比例', '消費頻率_週期', '消費頻率_天',\n",
    "       '國內消費behavior', '網路交易behavior', '零元比例']"
   ]
  },
  {
   "cell_type": "code",
   "execution_count": 4,
   "metadata": {
    "tags": []
   },
   "outputs": [],
   "source": [
    "new_data.columns = column_rename(new_data)\n",
    "new_data = extract_time(new_data)\n",
    "new_data.sort_values(['授權日期','授權小時','授權分鐘','授權秒','交易卡號'],inplace=True)\n",
    "new_data.reset_index(drop=True,inplace=True)\n",
    "new_data.fillna(-1,inplace=True)\n",
    "new_data = reformat(new_data)\n",
    "new_data['高金額'] = (new_data['轉換後交易金額']>1000).astype('int8')\n",
    "new_data['授權週數'] = new_data['授權日期'] // 7\n",
    "new_data['授權週日'] = new_data['授權日期'] % 7\n",
    "\n",
    "new_data['loading_cycle'] = 16 #manual, the next one is 16\n",
    "\n",
    "new_data.loc[new_data['授權小時'].between(6,13),'時段'] = '早上'\n",
    "new_data.loc[new_data['授權小時'].between(13,18),'時段'] = '下午'\n",
    "new_data.loc[new_data['授權小時'].between(18,23),'時段'] = '晚上'\n",
    "new_data['時段'].fillna('凌晨',inplace=True)\n",
    "new_data['是否為國外消費'] = new_data['消費地國別']!=0\n",
    "new_data['授權週日_時段'] = new_data['授權週日'].astype('str')+\"_\"+new_data['時段']\n",
    "new_data['交易類別_交易型態'] = new_data['交易類別'].astype('str')+\"_\"+new_data['交易型態'].astype('str')\n",
    "for col in ['授權日期','授權週數','授權週日']:#,'4_day_cycle']:\n",
    "    new_data[f\"num_{col}\"] = new_data[col]\n",
    "    \n",
    "new_data['當天交易次數'] = new_data.groupby(['交易卡號','授權日期'])['轉換後交易金額'].cumcount()\n",
    "new_data['連續0元交易'] = new_data[new_data['轉換後交易金額']==0].groupby(['交易卡號','授權日期']).cumcount()+1\n",
    "new_data['零元交易'] = (new_data['轉換後交易金額']==0).astype('int8')\n",
    "new_data['連續0元交易'].fillna(0,inplace=True)\n"
   ]
  },
  {
   "cell_type": "code",
   "execution_count": 5,
   "metadata": {
    "tags": []
   },
   "outputs": [],
   "source": [
    "for col in ['商戶類別代碼','消費城市','收單行代碼','特店代號']:\n",
    "    col_data = pd.read_csv(f'./prep/{col}消費總比例.csv',index_col=0)\n",
    "    col_data = col_data.iloc[:,0].to_dict()\n",
    "    new_data[f'{col}消費總比例'] = new_data[col].map(col_data)\n",
    "    new_data[f'{col}消費總比例'].fillna(0,inplace=True)"
   ]
  },
  {
   "cell_type": "code",
   "execution_count": 6,
   "metadata": {
    "tags": []
   },
   "outputs": [
    {
     "name": "stderr",
     "output_type": "stream",
     "text": [
      "100%|████████████████████████████████████████████████████████████████████████████| 6/6 [00:45<00:00,  7.58s/it]\n"
     ]
    }
   ],
   "source": [
    "for col in tqdm(['時段','網路交易註記','商戶類別代碼','消費城市','收單行代碼','特店代號']):\n",
    "    with open(f'./prep/卡號_{col}_mapping.pkl','rb') as f:\n",
    "        mapping = pickle.load(f)\n",
    "    new_data[f'卡號在{col}的比例'] = new_data.apply(lambda x: mapping.get((x['交易卡號'], x[col]), 0),axis=1)\n",
    "    "
   ]
  },
  {
   "cell_type": "code",
   "execution_count": 7,
   "metadata": {
    "tags": []
   },
   "outputs": [],
   "source": [
    "card_list = set(customer['交易卡號'].unique())\n",
    "new_data['新消費者'] = new_data['交易卡號'].apply(lambda x:x not in card_list)\n"
   ]
  },
  {
   "cell_type": "code",
   "execution_count": 8,
   "metadata": {
    "tags": []
   },
   "outputs": [],
   "source": [
    "keep_col = ['交易卡號','國內消費比例','消費金額平均數','盜刷比例','消費頻率_週期', '消費頻率_天','每日平均刷卡次數', '每週期平均交易數','國內消費behavior', '網路交易behavior','零元比例','最後一次交易日期']\n",
    "new_data = pd.merge(new_data,customer[keep_col],on='交易卡號',how='left')"
   ]
  },
  {
   "cell_type": "code",
   "execution_count": 9,
   "metadata": {
    "tags": []
   },
   "outputs": [],
   "source": [
    "# new_data['消費金額平均數'].fillna(customer['消費金額平均數'].median(),inplace=True)\n",
    "new_data['消費金額平均數'].fillna(0,inplace=True)\n",
    "new_data['消費頻率_天'].fillna(1,inplace=True)\n",
    "# new_data['每日平均刷卡次數'].fillna(customer['每日平均刷卡次數'].median(),inplace=True)\n",
    "new_data['每日平均刷卡次數'].fillna(0,inplace=True)\n",
    "new_data['零元比例'].fillna(0,inplace=True)"
   ]
  },
  {
   "cell_type": "code",
   "execution_count": 10,
   "metadata": {
    "tags": []
   },
   "outputs": [],
   "source": [
    "new_data['當天交易次數超越個人平均'] = new_data['轉換後交易金額']/new_data['消費金額平均數']"
   ]
  },
  {
   "cell_type": "code",
   "execution_count": 11,
   "metadata": {
    "tags": []
   },
   "outputs": [],
   "source": [
    "for col in ['國內消費比例','消費頻率_週期']:\n",
    "    new_data[col].fillna(1,inplace=True)\n",
    "\n",
    "for col in ['盜刷比例','每週期平均交易數','當天交易次數超越個人平均']:\n",
    "    new_data[col].fillna(0,inplace=True)\n",
    "\n",
    "for col in ['國內消費behavior',\t'網路交易behavior']:\n",
    "    new_data[col].fillna(-1,inplace=True)"
   ]
  },
  {
   "cell_type": "code",
   "execution_count": 12,
   "metadata": {
    "tags": []
   },
   "outputs": [],
   "source": [
    "new_data['是否符合網路消費習慣'] = (new_data['網路交易註記']==new_data['網路交易behavior']).astype('int8')\n",
    "new_data.loc[new_data['網路交易behavior']==-1,'是否符合網路消費習慣']=-1\n",
    "new_data['是否符合國內外消費習慣'] = (new_data['是否為國外消費']==new_data['國內消費behavior']).astype('int8')\n",
    "new_data.loc[new_data['國內消費behavior']==-1,'是否符合國內外消費習慣']=-1"
   ]
  },
  {
   "cell_type": "code",
   "execution_count": 13,
   "metadata": {
    "tags": []
   },
   "outputs": [
    {
     "data": {
      "text/plain": [
       "Index(['最後一次交易日期'], dtype='object')"
      ]
     },
     "execution_count": 13,
     "metadata": {},
     "output_type": "execute_result"
    }
   ],
   "source": [
    "new_data.columns[new_data.isna().any()]"
   ]
  },
  {
   "cell_type": "code",
   "execution_count": 14,
   "metadata": {
    "tags": []
   },
   "outputs": [
    {
     "name": "stderr",
     "output_type": "stream",
     "text": [
      "/opt/conda/lib/python3.10/site-packages/sklearn/base.py:348: InconsistentVersionWarning: Trying to unpickle estimator ExtraTreeRegressor from version 1.3.1 when using version 1.3.2. This might lead to breaking code or invalid results. Use at your own risk. For more info please refer to:\n",
      "https://scikit-learn.org/stable/model_persistence.html#security-maintainability-limitations\n",
      "  warnings.warn(\n",
      "/opt/conda/lib/python3.10/site-packages/sklearn/base.py:348: InconsistentVersionWarning: Trying to unpickle estimator IsolationForest from version 1.3.1 when using version 1.3.2. This might lead to breaking code or invalid results. Use at your own risk. For more info please refer to:\n",
      "https://scikit-learn.org/stable/model_persistence.html#security-maintainability-limitations\n",
      "  warnings.warn(\n"
     ]
    }
   ],
   "source": [
    "with open(f'./prep/columns_for_iso.pkl','rb') as f:\n",
    "        selected_col = pickle.load(f)\n",
    "with open(f'./prep/isolation_tree.pkl','rb') as f:\n",
    "        clf = pickle.load(f)"
   ]
  },
  {
   "cell_type": "code",
   "execution_count": 15,
   "metadata": {
    "tags": []
   },
   "outputs": [],
   "source": [
    "new_data['個人平均消費金額倍率'] = new_data['當天交易次數超越個人平均']"
   ]
  },
  {
   "cell_type": "code",
   "execution_count": 16,
   "metadata": {
    "tags": []
   },
   "outputs": [],
   "source": [
    "new_data.replace(np.inf, 0, inplace=True)"
   ]
  },
  {
   "cell_type": "code",
   "execution_count": 17,
   "metadata": {
    "tags": []
   },
   "outputs": [],
   "source": [
    "new_data['isolation'] = clf.predict(new_data[selected_col])"
   ]
  },
  {
   "cell_type": "code",
   "execution_count": 18,
   "metadata": {
    "tags": []
   },
   "outputs": [],
   "source": [
    "new_data.to_csv('private_2_processed.csv',index=False)"
   ]
  },
  {
   "cell_type": "code",
   "execution_count": null,
   "metadata": {},
   "outputs": [],
   "source": []
  }
 ],
 "metadata": {
  "kernelspec": {
   "display_name": "Python 3",
   "language": "python",
   "name": "python3"
  },
  "language_info": {
   "codemirror_mode": {
    "name": "ipython",
    "version": 3
   },
   "file_extension": ".py",
   "mimetype": "text/x-python",
   "name": "python",
   "nbconvert_exporter": "python",
   "pygments_lexer": "ipython3",
   "version": "3.9.6"
  }
 },
 "nbformat": 4,
 "nbformat_minor": 4
}
