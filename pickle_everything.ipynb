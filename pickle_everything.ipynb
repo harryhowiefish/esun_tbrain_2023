{
 "cells": [
  {
   "cell_type": "code",
   "execution_count": 127,
   "metadata": {},
   "outputs": [],
   "source": [
    "import pandas as pd\n",
    "import numpy as np\n",
    "from tqdm import tqdm\n",
    "import pickle\n",
    "import time\n",
    "import os\n",
    "from Preprocess.df_formatting_and_extract import *\n",
    "pd.set_option('display.max_columns', None)"
   ]
  },
  {
   "cell_type": "code",
   "execution_count": 128,
   "metadata": {},
   "outputs": [],
   "source": [
    "train = pd.read_csv('./dataset_1st/training.csv')\n",
    "public_test = pd.read_csv('./dataset_2nd/public.csv')\n",
    "private_1 = pd.read_csv('./dataset_2nd/private_1_processed.csv')"
   ]
  },
  {
   "cell_type": "code",
   "execution_count": 129,
   "metadata": {},
   "outputs": [],
   "source": [
    "all_data = pd.concat([train,public_test,private_1])"
   ]
  },
  {
   "cell_type": "code",
   "execution_count": 130,
   "metadata": {},
   "outputs": [],
   "source": [
    "train.columns = column_rename(train)\n",
    "all_data.columns = column_rename(all_data)\n",
    "all_data = extract_time(all_data)\n",
    "all_data.sort_values(['授權日期','授權小時','授權分鐘','授權秒','交易卡號'],inplace=True)\n",
    "all_data.reset_index(drop=True,inplace=True)\n",
    "all_data.fillna(-1,inplace=True)\n",
    "all_data = reformat(all_data)"
   ]
  },
  {
   "cell_type": "code",
   "execution_count": 131,
   "metadata": {},
   "outputs": [],
   "source": [
    "all_data['高金額'] = (all_data['轉換後交易金額']>train[train['盜刷註記']==0]['轉換後交易金額'].quantile(q=.80)).astype('int8')\n",
    "del train,public_test,private_1"
   ]
  },
  {
   "cell_type": "code",
   "execution_count": 132,
   "metadata": {},
   "outputs": [],
   "source": [
    "all_data['授權週數'] = all_data['授權日期'] // 7\n",
    "all_data['授權週日'] = all_data['授權日期'] % 7\n",
    "\n",
    "all_data.loc[all_data['授權小時'].between(6,13),'時段'] = '早上'\n",
    "all_data.loc[all_data['授權小時'].between(13,18),'時段'] = '下午'\n",
    "all_data.loc[all_data['授權小時'].between(18,23),'時段'] = '晚上'\n",
    "all_data['時段'].fillna('凌晨',inplace=True)\n",
    "all_data['是否為國外消費'] = (all_data['消費地國別']!=0).astype('int8')"
   ]
  },
  {
   "cell_type": "code",
   "execution_count": 133,
   "metadata": {},
   "outputs": [],
   "source": [
    "all_data['授權週日_時段'] = all_data['授權週日'].astype('str')+\"_\"+all_data['時段']\n",
    "all_data['交易類別_交易型態'] = all_data['交易類別'].astype('str')+\"_\"+all_data['交易型態'].astype('str')\n",
    "all_data['零元交易'] = (all_data['轉換後交易金額']==0).astype('int8')"
   ]
  },
  {
   "cell_type": "code",
   "execution_count": null,
   "metadata": {},
   "outputs": [],
   "source": [
    "if not os.path.exists('prep'):\n",
    "    # Create the folder\n",
    "    os.makedirs('prep')"
   ]
  },
  {
   "cell_type": "code",
   "execution_count": 134,
   "metadata": {},
   "outputs": [],
   "source": [
    "for col in ['商戶類別代碼','消費城市','收單行代碼','特店代號']:\n",
    "    count_df = all_data[col].value_counts(normalize=True).to_frame()\n",
    "    count_df.to_csv(f'./prep/{col}消費總比例.csv')\n"
   ]
  },
  {
   "cell_type": "code",
   "execution_count": 135,
   "metadata": {},
   "outputs": [],
   "source": [
    "date_list = create_date_list(sorted(all_data['授權日期'].unique()))"
   ]
  },
  {
   "cell_type": "code",
   "execution_count": 136,
   "metadata": {},
   "outputs": [],
   "source": [
    "for idx,sublist in enumerate(date_list):\n",
    "    all_data.loc[all_data['授權日期'].isin(sublist),'loading_cycle'] = idx\n",
    "all_data['loading_cycle'] =all_data['loading_cycle'].astype('int8')"
   ]
  },
  {
   "cell_type": "code",
   "execution_count": 137,
   "metadata": {},
   "outputs": [
    {
     "name": "stderr",
     "output_type": "stream",
     "text": [
      "100%|██████████| 6/6 [01:06<00:00, 11.01s/it]\n"
     ]
    }
   ],
   "source": [
    "for col in tqdm(['時段','網路交易註記','商戶類別代碼','消費城市','收單行代碼','特店代號']):\n",
    "    mapping = all_data.groupby('交易卡號')[col].value_counts(normalize=True).to_dict()\n",
    "    with open(f'./prep/卡號_{col}_mapping.pkl','wb') as f:\n",
    "        pickle.dump(mapping,f)"
   ]
  },
  {
   "cell_type": "code",
   "execution_count": 138,
   "metadata": {},
   "outputs": [],
   "source": [
    "#query\n",
    "card_df = all_data.groupby('交易卡號')['loading_cycle'].agg(['nunique','count','min'])\n",
    "card_df.columns = ['交易週期數','交易總次數','第一次交易週期']\n",
    "card_df['交易天數'] = all_data.groupby('交易卡號')['授權日期'].nunique().astype('int8')\n",
    "card_df['第一次交易日期']= all_data.groupby('交易卡號')['授權日期'].min().astype('int8')\n",
    "card_df['最後一次交易日期']= all_data.groupby('交易卡號')['授權日期'].max().astype('int8')\n",
    "card_df['盜刷總數'] = all_data.groupby('交易卡號')['盜刷註記'].sum().astype('int16')\n",
    "card_df['消費總額'] = all_data.groupby('交易卡號')['轉換後交易金額'].sum().astype('int32')\n",
    "card_df['零元比例'] = all_data.groupby('交易卡號')['零元交易'].mean()\n",
    "card_df['網路消費次數'] = all_data.groupby('交易卡號')['網路交易註記'].sum().astype('int16')\n",
    "card_df['國內消費次數'] = all_data[all_data['消費地國別']==0].groupby('交易卡號')['轉換後交易金額'].count().astype('int16')\n",
    "card_df['國內消費次數'].fillna(0,inplace=True)\n"
   ]
  },
  {
   "cell_type": "code",
   "execution_count": 139,
   "metadata": {},
   "outputs": [],
   "source": [
    "card_df['盜刷比例'] = card_df['盜刷總數']/card_df['交易總次數']\n",
    "card_df['每天平均交易數'] = card_df['交易總次數']/card_df['交易天數']\n",
    "card_df['每週期平均交易數'] = card_df['交易總次數']/card_df['交易週期數']\n",
    "card_df['可交易天數']= card_df['第一次交易日期'].max()-card_df['第一次交易日期']+1\n",
    "card_df['可交易週期數']= card_df['第一次交易週期'].max()-card_df['第一次交易週期']+1\n",
    "card_df['消費金額平均數'] = card_df['消費總額']/card_df['交易總次數']\n",
    "card_df['國內消費比例'] = card_df['國內消費次數']/card_df['交易總次數']\n",
    "card_df['消費頻率_週期'] = card_df['交易週期數']/card_df['可交易週期數']\n",
    "card_df['消費頻率_天'] = card_df['交易天數']/card_df['可交易天數']\n",
    "card_df['國內消費behavior']='-1'\n",
    "card_df.loc[card_df['國內消費比例']>0.7,'國內消費behavior']='0'\n",
    "card_df.loc[card_df['國內消費比例']<0.3,'國內消費behavior']='1'\n",
    "card_df['網路交易behavior']='-1'\n",
    "card_df.loc[card_df['網路消費次數']/card_df['交易總次數']>0.7,'網路交易behavior']='1'\n",
    "card_df.loc[card_df['網路消費次數']/card_df['交易總次數']<0.3,'網路交易behavior']='0'\n"
   ]
  },
  {
   "cell_type": "code",
   "execution_count": 147,
   "metadata": {},
   "outputs": [],
   "source": [
    "card_df.to_csv('./prep/customer_label.csv')"
   ]
  },
  {
   "cell_type": "code",
   "execution_count": null,
   "metadata": {},
   "outputs": [],
   "source": [
    "train = pd.read_csv('./train_data_extracted.csv')\n",
    "train.fillna(0,inplace=True)\n",
    "from sklearn.ensemble import IsolationForest\n",
    "\n",
    "drop_col = ['盜刷註記','交易序號',\n",
    "            '顧客ID', '交易卡號',\n",
    "            'num_授權日期', 'num_授權週數', 'num_授權週日',\n",
    "            '特店代號','收單行代碼','時段','授權週日_時段','交易類別_交易型態','新消費者',\n",
    "            ]\n",
    "selected_col = [col for col in train.columns if col not in drop_col]\n",
    "\n",
    "clf = IsolationForest(random_state=0).fit(train[selected_col])\n",
    "with open(f'../prep/isolation_tree.pkl','wb') as f:\n",
    "    pickle.dump(clf,f)\n",
    "with open(f'../prep/columns_for_iso.pkl','wb') as f:\n",
    "    pickle.dump(selected_col,f)"
   ]
  }
 ],
 "metadata": {
  "kernelspec": {
   "display_name": ".venv",
   "language": "python",
   "name": "python3"
  },
  "language_info": {
   "codemirror_mode": {
    "name": "ipython",
    "version": 3
   },
   "file_extension": ".py",
   "mimetype": "text/x-python",
   "name": "python",
   "nbconvert_exporter": "python",
   "pygments_lexer": "ipython3",
   "version": "3.9.6"
  }
 },
 "nbformat": 4,
 "nbformat_minor": 2
}
