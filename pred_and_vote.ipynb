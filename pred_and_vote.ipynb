{
 "cells": [
  {
   "cell_type": "code",
   "execution_count": 1,
   "metadata": {
    "tags": []
   },
   "outputs": [],
   "source": [
    "import pandas as pd\n",
    "import numpy as np\n",
    "from tqdm import tqdm\n",
    "import pickle\n",
    "import catboost as cb\n",
    "from catboost import metrics\n",
    "from sklearn.metrics import f1_score,precision_score,recall_score\n",
    "import time\n",
    "import os"
   ]
  },
  {
   "cell_type": "code",
   "execution_count": 2,
   "metadata": {
    "tags": []
   },
   "outputs": [],
   "source": [
    "new_data = pd.read_csv('./private_2_processed.csv')\n",
    "sub = pd.read_csv('./datasets/private_2_template_v2.csv',index_col=0)\n"
   ]
  },
  {
   "cell_type": "code",
   "execution_count": 3,
   "metadata": {
    "tags": []
   },
   "outputs": [
    {
     "data": {
      "text/plain": [
       "<catboost.core.CatBoostClassifier at 0x7f6937604fd0>"
      ]
     },
     "execution_count": 3,
     "metadata": {},
     "output_type": "execute_result"
    }
   ],
   "source": [
    "model = cb.CatBoostClassifier()\n",
    "model.load_model('./pretrain_model/base_model_with_public.cbm')"
   ]
  },
  {
   "cell_type": "code",
   "execution_count": 4,
   "metadata": {
    "tags": []
   },
   "outputs": [
    {
     "data": {
      "text/plain": [
       "0.0    802021\n",
       "1.0      3700\n",
       "Name: count, dtype: int64"
      ]
     },
     "execution_count": 4,
     "metadata": {},
     "output_type": "execute_result"
    }
   ],
   "source": [
    "pred_1 = model.predict_proba(new_data[model.feature_names_])[:,1]\n",
    "new_data['pred_1'] = pred_1\n",
    "pd.DataFrame(pred_1.round()).value_counts()"
   ]
  },
  {
   "cell_type": "code",
   "execution_count": 5,
   "metadata": {
    "tags": []
   },
   "outputs": [
    {
     "data": {
      "text/plain": [
       "0.0    802119\n",
       "1.0      3602\n",
       "Name: count, dtype: int64"
      ]
     },
     "execution_count": 5,
     "metadata": {},
     "output_type": "execute_result"
    }
   ],
   "source": [
    "model.load_model('./pretrain_model/transaction_focus_model_with_public.cbm')\n",
    "pred_2 = model.predict_proba(new_data[model.feature_names_])[:,1]\n",
    "new_data['pred_2'] = pred_2\n",
    "pd.DataFrame(pred_2.round()).value_counts()"
   ]
  },
  {
   "cell_type": "code",
   "execution_count": 6,
   "metadata": {
    "tags": []
   },
   "outputs": [
    {
     "data": {
      "text/plain": [
       "0.0    802013\n",
       "1.0      3708\n",
       "Name: count, dtype: int64"
      ]
     },
     "execution_count": 6,
     "metadata": {},
     "output_type": "execute_result"
    }
   ],
   "source": [
    "model.load_model('./pretrain_model/zero_focus_model_with_public.cbm')\n",
    "pred_3 = model.predict_proba(new_data[model.feature_names_])[:,1]\n",
    "new_data['pred_3'] = pred_3\n",
    "pd.DataFrame(pred_3.round()).value_counts()"
   ]
  },
  {
   "cell_type": "code",
   "execution_count": 11,
   "metadata": {
    "tags": []
   },
   "outputs": [],
   "source": [
    "new_data['距離上次刷卡天數'] = new_data['授權日期']-new_data['最後一次交易日期']"
   ]
  },
  {
   "cell_type": "code",
   "execution_count": 13,
   "metadata": {
    "tags": []
   },
   "outputs": [],
   "source": [
    "new_data['距離上次刷卡天數'].fillna(1,inplace=True)"
   ]
  },
  {
   "cell_type": "code",
   "execution_count": 14,
   "metadata": {
    "tags": []
   },
   "outputs": [
    {
     "data": {
      "text/plain": [
       "0.0    802149\n",
       "1.0      3572\n",
       "Name: count, dtype: int64"
      ]
     },
     "execution_count": 14,
     "metadata": {},
     "output_type": "execute_result"
    }
   ],
   "source": [
    "model.load_model('./pretrain_model/best_model_with_public.cbm')\n",
    "pred_4 = model.predict_proba(new_data[model.feature_names_])[:,1]\n",
    "new_data['pred_4'] = pred_4\n",
    "pd.DataFrame(pred_4.round()).value_counts()"
   ]
  },
  {
   "cell_type": "code",
   "execution_count": 18,
   "metadata": {
    "tags": []
   },
   "outputs": [],
   "source": [
    "new_data['final_pred'] = new_data[['pred_1','pred_2','pred_3','pred_4']].mean(axis=1).round().astype('int8')"
   ]
  },
  {
   "cell_type": "code",
   "execution_count": 19,
   "metadata": {
    "tags": []
   },
   "outputs": [
    {
     "data": {
      "text/plain": [
       "final_pred\n",
       "0    802107\n",
       "1      3614\n",
       "Name: count, dtype: int64"
      ]
     },
     "execution_count": 19,
     "metadata": {},
     "output_type": "execute_result"
    }
   ],
   "source": [
    "new_data['final_pred'].value_counts()"
   ]
  },
  {
   "cell_type": "code",
   "execution_count": 21,
   "metadata": {
    "tags": []
   },
   "outputs": [],
   "source": [
    "sub.loc[new_data.set_index('交易序號').index,'pred'] = new_data.set_index('交易序號')['final_pred']"
   ]
  },
  {
   "cell_type": "code",
   "execution_count": 22,
   "metadata": {
    "tags": []
   },
   "outputs": [
    {
     "data": {
      "text/plain": [
       "pred\n",
       "0    802107\n",
       "1      3614\n",
       "Name: count, dtype: int64"
      ]
     },
     "execution_count": 22,
     "metadata": {},
     "output_type": "execute_result"
    }
   ],
   "source": [
    "sub['pred'].value_counts()"
   ]
  },
  {
   "cell_type": "code",
   "execution_count": 24,
   "metadata": {
    "tags": []
   },
   "outputs": [],
   "source": [
    "sub.to_csv('TEAM_4010_submission.csv')"
   ]
  },
  {
   "cell_type": "code",
   "execution_count": null,
   "metadata": {},
   "outputs": [],
   "source": []
  },
  {
   "cell_type": "code",
   "execution_count": null,
   "metadata": {},
   "outputs": [],
   "source": []
  },
  {
   "cell_type": "code",
   "execution_count": null,
   "metadata": {},
   "outputs": [],
   "source": []
  },
  {
   "cell_type": "code",
   "execution_count": null,
   "metadata": {},
   "outputs": [],
   "source": []
  },
  {
   "cell_type": "code",
   "execution_count": 8,
   "metadata": {},
   "outputs": [],
   "source": [
    "# result_1 = pd.read_csv('./result/01_baseline_with_public_retrain.csv',index_col=0)\n",
    "# result_2 = pd.read_csv('./result/02_online_pattern_with_public_retrain.csv',index_col=0)\n",
    "# result_3 = pd.read_csv('./result/03_country_pattern_with_public_retrain.csv',index_col=0)\n",
    "# result_4 = pd.read_csv('./result/04_shopping_freq_with_public_retrain.csv',index_col=0)\n",
    "new_result = pd.read_csv('./result/new_sub.csv',index_col=0)\n",
    "new_result_2 = pd.read_csv('./result/new_sub_2.csv',index_col=0)\n",
    "\n",
    "result = pd.concat([new_result,new_result_2],axis=1)\n",
    "\n",
    "# result = pd.concat([result_1,result_2,result_3,result_4,new_result],axis=1)\n",
    "result['pred_mean'] = result.mean(axis=1)"
   ]
  },
  {
   "cell_type": "code",
   "execution_count": 10,
   "metadata": {},
   "outputs": [
    {
     "data": {
      "text/plain": [
       "(0.8549727035366722, 0.8516068052930057)"
      ]
     },
     "execution_count": 10,
     "metadata": {},
     "output_type": "execute_result"
    }
   ],
   "source": [
    "f1_score(gt,new_result.loc[index,'pred'].round()),f1_score(gt,new_result_2.loc[index,'pred'].round())"
   ]
  },
  {
   "cell_type": "code",
   "execution_count": 9,
   "metadata": {},
   "outputs": [
    {
     "data": {
      "text/plain": [
       "0.8562618595825428"
      ]
     },
     "execution_count": 9,
     "metadata": {},
     "output_type": "execute_result"
    }
   ],
   "source": [
    "f1_score(gt,result.loc[index,'pred_mean'].round())"
   ]
  }
 ],
 "metadata": {
  "kernelspec": {
   "display_name": "Python 3",
   "language": "python",
   "name": "python3"
  },
  "language_info": {
   "codemirror_mode": {
    "name": "ipython",
    "version": 3
   },
   "file_extension": ".py",
   "mimetype": "text/x-python",
   "name": "python",
   "nbconvert_exporter": "python",
   "pygments_lexer": "ipython3",
   "version": "3.10.13"
  }
 },
 "nbformat": 4,
 "nbformat_minor": 4
}
